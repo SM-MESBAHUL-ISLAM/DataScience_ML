{
 "cells": [
  {
   "cell_type": "markdown",
   "id": "146d88a9",
   "metadata": {},
   "source": [
    "# Numpy Tutorial Notebook :\n",
    "This notebook will give you some basic knowledge of numpy library and numpy array.  "
   ]
  },
  {
   "cell_type": "code",
   "execution_count": 4,
   "id": "8ac4da78",
   "metadata": {
    "collapsed": true
   },
   "outputs": [
    {
     "data": {
      "text/plain": [
       "5"
      ]
     },
     "execution_count": 4,
     "metadata": {},
     "output_type": "execute_result"
    }
   ],
   "source": [
    "import numpy as np\n",
    "a = np.array([5,6,9])\n",
    "a[0]"
   ]
  },
  {
   "cell_type": "code",
   "execution_count": 3,
   "id": "3e1e2b2c",
   "metadata": {
    "collapsed": true
   },
   "outputs": [
    {
     "data": {
      "text/plain": [
       "6"
      ]
     },
     "execution_count": 3,
     "metadata": {},
     "output_type": "execute_result"
    }
   ],
   "source": [
    "a[1]"
   ]
  },
  {
   "cell_type": "markdown",
   "id": "dd2792e3",
   "metadata": {},
   "source": [
    "## ndim :  \n",
    "**ndim** will print the diamension of the array  "
   ]
  },
  {
   "cell_type": "code",
   "execution_count": 5,
   "id": "6eda7b65",
   "metadata": {
    "collapsed": true
   },
   "outputs": [
    {
     "data": {
      "text/plain": [
       "2"
      ]
     },
     "execution_count": 5,
     "metadata": {},
     "output_type": "execute_result"
    }
   ],
   "source": [
    "a = np.array([[1,2],[3,4],[5,6]])\n",
    "a.ndim"
   ]
  },
  {
   "cell_type": "code",
   "execution_count": 6,
   "id": "09b0395c",
   "metadata": {
    "collapsed": true
   },
   "outputs": [
    {
     "data": {
      "text/plain": [
       "1"
      ]
     },
     "execution_count": 6,
     "metadata": {},
     "output_type": "execute_result"
    }
   ],
   "source": [
    "x = np.array([1,2,3])\n",
    "x.ndim"
   ]
  },
  {
   "cell_type": "markdown",
   "id": "f8b8aa73",
   "metadata": {},
   "source": [
    "## itemsize :\n",
    "**itemsize** will give the byte size of each of the array element."
   ]
  },
  {
   "cell_type": "code",
   "execution_count": 9,
   "id": "5c96090d",
   "metadata": {
    "collapsed": true
   },
   "outputs": [
    {
     "data": {
      "text/plain": [
       "8"
      ]
     },
     "execution_count": 9,
     "metadata": {},
     "output_type": "execute_result"
    }
   ],
   "source": [
    "a = np.array([[10,20],[30,40],[50,60]])\n",
    "a.itemsize"
   ]
  },
  {
   "cell_type": "markdown",
   "id": "84aac0c4",
   "metadata": {},
   "source": [
    "## dtype :\n",
    "**dtype** will give the data type of the elements.(int,float,string etc)"
   ]
  },
  {
   "cell_type": "code",
   "execution_count": 10,
   "id": "86955e88",
   "metadata": {
    "collapsed": true
   },
   "outputs": [
    {
     "data": {
      "text/plain": [
       "dtype('int64')"
      ]
     },
     "execution_count": 10,
     "metadata": {},
     "output_type": "execute_result"
    }
   ],
   "source": [
    "a.dtype"
   ]
  },
  {
   "cell_type": "markdown",
   "id": "f3f98591",
   "metadata": {},
   "source": [
    "We can change the data type of the elements like this :"
   ]
  },
  {
   "cell_type": "code",
   "execution_count": 13,
   "id": "ccaa1afa",
   "metadata": {
    "collapsed": true
   },
   "outputs": [
    {
     "name": "stdout",
     "output_type": "stream",
     "text": [
      "8 bytes\n",
      "float64\n"
     ]
    }
   ],
   "source": [
    "a = np.array([[1,2],[3,4],[5,6]],dtype=np.float64)\n",
    "print(a.itemsize,\"bytes\")\n",
    "print(a.dtype)"
   ]
  },
  {
   "cell_type": "code",
   "execution_count": 14,
   "id": "6817fe9a",
   "metadata": {
    "collapsed": true
   },
   "outputs": [
    {
     "name": "stdout",
     "output_type": "stream",
     "text": [
      "[[1. 2.]\n",
      " [3. 4.]\n",
      " [5. 6.]]\n"
     ]
    }
   ],
   "source": [
    "print(a)"
   ]
  },
  {
   "cell_type": "markdown",
   "id": "a5e257ab",
   "metadata": {},
   "source": [
    "dtype can be **complex**  "
   ]
  },
  {
   "cell_type": "code",
   "execution_count": 17,
   "id": "98c3e4c7",
   "metadata": {
    "collapsed": true
   },
   "outputs": [
    {
     "name": "stdout",
     "output_type": "stream",
     "text": [
      "[[1.+0.j 2.+0.j]\n",
      " [3.+0.j 4.+0.j]\n",
      " [5.+0.j 6.+0.j]]\n"
     ]
    }
   ],
   "source": [
    "x = np.array([[1,2],[3,4],[5,6]],dtype=complex)\n",
    "print(x)"
   ]
  },
  {
   "cell_type": "markdown",
   "id": "b3ba077b",
   "metadata": {},
   "source": [
    "## size :\n",
    "give the size of the array that means it will give the number of elements array have.\n",
    "## shape :\n",
    "give the order of array."
   ]
  },
  {
   "cell_type": "code",
   "execution_count": 15,
   "id": "1e0b966d",
   "metadata": {
    "collapsed": true
   },
   "outputs": [
    {
     "data": {
      "text/plain": [
       "6"
      ]
     },
     "execution_count": 15,
     "metadata": {},
     "output_type": "execute_result"
    }
   ],
   "source": [
    "a.size"
   ]
  },
  {
   "cell_type": "code",
   "execution_count": 16,
   "id": "ec5cbc03",
   "metadata": {
    "collapsed": true
   },
   "outputs": [
    {
     "data": {
      "text/plain": [
       "(3, 2)"
      ]
     },
     "execution_count": 16,
     "metadata": {},
     "output_type": "execute_result"
    }
   ],
   "source": [
    "a.shape"
   ]
  },
  {
   "cell_type": "markdown",
   "id": "4689b1d2",
   "metadata": {},
   "source": [
    "## numpy.zeros() :\n",
    "this will create an array of zeros.Pass the order of array you want to create.\n",
    "## numpy.ones() :\n",
    "this will create an array of ones.Pass the order of array you want to create."
   ]
  },
  {
   "cell_type": "code",
   "execution_count": 18,
   "id": "ce571aea",
   "metadata": {
    "collapsed": true
   },
   "outputs": [
    {
     "data": {
      "text/plain": [
       "array([[0., 0., 0., 0.],\n",
       "       [0., 0., 0., 0.],\n",
       "       [0., 0., 0., 0.]])"
      ]
     },
     "execution_count": 18,
     "metadata": {},
     "output_type": "execute_result"
    }
   ],
   "source": [
    "np.zeros((3,4))"
   ]
  },
  {
   "cell_type": "code",
   "execution_count": 19,
   "id": "b624a35b",
   "metadata": {
    "collapsed": true
   },
   "outputs": [
    {
     "data": {
      "text/plain": [
       "array([[0., 0., 0., 0., 0.],\n",
       "       [0., 0., 0., 0., 0.]])"
      ]
     },
     "execution_count": 19,
     "metadata": {},
     "output_type": "execute_result"
    }
   ],
   "source": [
    "np.zeros((2,5))"
   ]
  },
  {
   "cell_type": "code",
   "execution_count": 20,
   "id": "0e682979",
   "metadata": {
    "collapsed": true
   },
   "outputs": [
    {
     "data": {
      "text/plain": [
       "array([[1., 1., 1., 1.],\n",
       "       [1., 1., 1., 1.],\n",
       "       [1., 1., 1., 1.]])"
      ]
     },
     "execution_count": 20,
     "metadata": {},
     "output_type": "execute_result"
    }
   ],
   "source": [
    "np.ones((3,4))"
   ]
  },
  {
   "cell_type": "markdown",
   "id": "a551e081",
   "metadata": {},
   "source": [
    "## range() :\n",
    "this will create an array of given range"
   ]
  },
  {
   "cell_type": "code",
   "execution_count": 22,
   "id": "70c8a630",
   "metadata": {},
   "outputs": [
    {
     "name": "stdout",
     "output_type": "stream",
     "text": [
      "range(0, 10)\n",
      "0\n",
      "1\n",
      "9\n"
     ]
    }
   ],
   "source": [
    "l = range(10)\n",
    "print(l)\n",
    "print(l[0])\n",
    "print(l[1])\n",
    "print(l[9])"
   ]
  },
  {
   "cell_type": "markdown",
   "id": "3ddd1eb7",
   "metadata": {},
   "source": [
    "## numpy.arange() :\n",
    "this will create an numpy array of given range.  \n",
    "**Syntex**  \n",
    "numpy.arange(**start**,**stop(Exclusive)**,**step**)"
   ]
  },
  {
   "cell_type": "code",
   "execution_count": 23,
   "id": "7c6ddd3e",
   "metadata": {},
   "outputs": [
    {
     "name": "stdout",
     "output_type": "stream",
     "text": [
      "[1 2 3 4]\n"
     ]
    }
   ],
   "source": [
    "a = np.arange(1,5)\n",
    "print(a)"
   ]
  },
  {
   "cell_type": "code",
   "execution_count": 24,
   "id": "f8ea29d9",
   "metadata": {},
   "outputs": [
    {
     "name": "stdout",
     "output_type": "stream",
     "text": [
      "[1 3 5 7 9]\n"
     ]
    }
   ],
   "source": [
    "b = np.arange(1,10,2)\n",
    "print(b)"
   ]
  },
  {
   "cell_type": "markdown",
   "id": "8bce5f50",
   "metadata": {},
   "source": [
    "## numpy.linspace() :\n",
    "this will also create an numpy array of given range which is linearly spaced.  \n",
    "**Syntex:**  \n",
    "numpy.linspace(**start**,**stop(inclusive)**,**how_many_number**)"
   ]
  },
  {
   "cell_type": "code",
   "execution_count": 28,
   "id": "394171cb",
   "metadata": {
    "scrolled": true
   },
   "outputs": [
    {
     "name": "stdout",
     "output_type": "stream",
     "text": [
      "[1.         1.44444444 1.88888889 2.33333333 2.77777778 3.22222222\n",
      " 3.66666667 4.11111111 4.55555556 5.        ]\n"
     ]
    }
   ],
   "source": [
    "x = np.linspace(1,5,10)\n",
    "print(x)"
   ]
  },
  {
   "cell_type": "code",
   "execution_count": 29,
   "id": "d062d3a6",
   "metadata": {},
   "outputs": [
    {
     "name": "stdout",
     "output_type": "stream",
     "text": [
      "[1. 2. 3. 4. 5.]\n"
     ]
    }
   ],
   "source": [
    "x = np.linspace(1,5,5)\n",
    "print(x)"
   ]
  },
  {
   "cell_type": "markdown",
   "id": "957a6749",
   "metadata": {},
   "source": [
    "## reshape() :\n",
    "using this we can change the diamension of any array.  \n",
    "**Syntex:**  \n",
    "array_name.reshape(**order**)"
   ]
  },
  {
   "cell_type": "code",
   "execution_count": 31,
   "id": "4f2be3e3",
   "metadata": {
    "collapsed": true
   },
   "outputs": [
    {
     "name": "stdout",
     "output_type": "stream",
     "text": [
      "Before:\n",
      "[[1 2]\n",
      " [3 4]\n",
      " [5 6]]\n",
      "(3, 2)\n",
      "After: \n",
      "[[1 2 3]\n",
      " [4 5 6]]\n",
      "(2, 3)\n"
     ]
    }
   ],
   "source": [
    "a = np.array([[1,2],[3,4],[5,6]])\n",
    "print(\"Before:\")\n",
    "print(a)\n",
    "print(a.shape)\n",
    "\n",
    "x = a.reshape(2,3)\n",
    "print(\"After: \")\n",
    "print(x)\n",
    "print(x.shape)"
   ]
  },
  {
   "cell_type": "code",
   "execution_count": 32,
   "id": "064ed635",
   "metadata": {
    "collapsed": true
   },
   "outputs": [
    {
     "name": "stdout",
     "output_type": "stream",
     "text": [
      "[[1]\n",
      " [2]\n",
      " [3]\n",
      " [4]\n",
      " [5]\n",
      " [6]]\n"
     ]
    }
   ],
   "source": [
    "x = a.reshape(6,1)\n",
    "print(x)"
   ]
  },
  {
   "cell_type": "markdown",
   "id": "ab8ae12f",
   "metadata": {},
   "source": [
    "## ravel() :\n",
    "we can use **ravel()** function to flaten or make any array one diamensional.  \n",
    "**Syntex:**  \n",
    "array_name.ravel()"
   ]
  },
  {
   "cell_type": "code",
   "execution_count": 34,
   "id": "9aa4e966",
   "metadata": {
    "collapsed": true
   },
   "outputs": [
    {
     "name": "stdout",
     "output_type": "stream",
     "text": [
      "[1 2 3 4 5 6]\n"
     ]
    }
   ],
   "source": [
    "y = x.ravel()\n",
    "print(y)"
   ]
  },
  {
   "cell_type": "markdown",
   "id": "8125b9ed",
   "metadata": {},
   "source": [
    "## min() :\n",
    "return the minimum element of the array.  \n",
    "**Syntex:**  \n",
    "array_name.min()\n",
    "## max() :\n",
    "returns the maximum element of the array.  \n",
    "**Syntex:**  \n",
    "array_name.max()\n",
    "## sum() :\n",
    "returns the sum of every element of the array.  \n",
    "**Syntex:**  \n",
    "array_name.sum()\n",
    "## sum(axis = col or row) :\n",
    "returns an array with the sum of colomuns or rows.\n",
    "axis = 0 means sum of colomuns\n",
    "axis = 1 means sum of rows.\n",
    "**Syntex:**  \n",
    "array_name.sum(axis = 0) -> returns an array with the sum of every colomuns  \n",
    "array_name.sum(axis = 1) -> returns an array with the sum of every row\n",
    "## numpy.sqrt() :\n",
    "returns an array with the square root of every element of the array  \n",
    "**Syntex:**  \n",
    "numpy.sqrt(array_name)  \n",
    "## numpy.std() :\n",
    "returns the standard deviation of the elements of the array.  \n",
    "**Syntex:**  \n",
    "numpy.std(array_name)  "
   ]
  },
  {
   "cell_type": "code",
   "execution_count": 35,
   "id": "d5da0fda",
   "metadata": {},
   "outputs": [
    {
     "name": "stdout",
     "output_type": "stream",
     "text": [
      "[[1 2]\n",
      " [3 4]\n",
      " [5 6]]\n"
     ]
    }
   ],
   "source": [
    "a = np.array([[1,2],[3,4],[5,6]])\n",
    "print(a)"
   ]
  },
  {
   "cell_type": "code",
   "execution_count": 37,
   "id": "21d644c6",
   "metadata": {},
   "outputs": [
    {
     "name": "stdout",
     "output_type": "stream",
     "text": [
      "1\n"
     ]
    }
   ],
   "source": [
    "print(a.min())"
   ]
  },
  {
   "cell_type": "code",
   "execution_count": 36,
   "id": "a89ef6a2",
   "metadata": {
    "scrolled": true
   },
   "outputs": [
    {
     "name": "stdout",
     "output_type": "stream",
     "text": [
      "6\n"
     ]
    }
   ],
   "source": [
    "print(a.max())"
   ]
  },
  {
   "cell_type": "code",
   "execution_count": 38,
   "id": "f320f60a",
   "metadata": {},
   "outputs": [
    {
     "name": "stdout",
     "output_type": "stream",
     "text": [
      "21\n"
     ]
    }
   ],
   "source": [
    "print(a.sum())"
   ]
  },
  {
   "cell_type": "code",
   "execution_count": 40,
   "id": "6359f38a",
   "metadata": {},
   "outputs": [
    {
     "name": "stdout",
     "output_type": "stream",
     "text": [
      "[ 9 12]\n",
      "[ 3  7 11]\n"
     ]
    }
   ],
   "source": [
    "print(a.sum(axis=0))\n",
    "print(a.sum(axis=1))"
   ]
  },
  {
   "cell_type": "code",
   "execution_count": 41,
   "id": "b5e1f51a",
   "metadata": {},
   "outputs": [
    {
     "name": "stdout",
     "output_type": "stream",
     "text": [
      "[[1.         1.41421356]\n",
      " [1.73205081 2.        ]\n",
      " [2.23606798 2.44948974]]\n"
     ]
    }
   ],
   "source": [
    "print(np.sqrt(a))"
   ]
  },
  {
   "cell_type": "code",
   "execution_count": 42,
   "id": "55cad0a9",
   "metadata": {},
   "outputs": [
    {
     "name": "stdout",
     "output_type": "stream",
     "text": [
      "1.707825127659933\n"
     ]
    }
   ],
   "source": [
    "print(np.std(a))"
   ]
  },
  {
   "cell_type": "markdown",
   "id": "63cb40a7",
   "metadata": {},
   "source": [
    "## Some mathametical operation using numpy arrays :\n",
    "let **A** and **B** is two array. Now:\n",
    "**A+B** will return a new array with the sum of the elements of A and B  \n",
    "**A\\*B** will return a new array with the product of the elements of A and B  \n",
    "**A/B** will return a new array with the divide of the elements of A and B\n",
    "**A.dot(B)** will return a new array with the matrix multiplication of matrix A and matrix B"
   ]
  },
  {
   "cell_type": "code",
   "execution_count": 43,
   "id": "ebc8acac",
   "metadata": {},
   "outputs": [],
   "source": [
    "A = np.array([[1,2],[3,4]])\n",
    "B = np.array([[5,6],[7,8]])"
   ]
  },
  {
   "cell_type": "code",
   "execution_count": 44,
   "id": "5c40daf3",
   "metadata": {},
   "outputs": [
    {
     "data": {
      "text/plain": [
       "array([[ 6,  8],\n",
       "       [10, 12]])"
      ]
     },
     "execution_count": 44,
     "metadata": {},
     "output_type": "execute_result"
    }
   ],
   "source": [
    "A+B"
   ]
  },
  {
   "cell_type": "code",
   "execution_count": 45,
   "id": "8340e239",
   "metadata": {},
   "outputs": [
    {
     "data": {
      "text/plain": [
       "array([[ 5, 12],\n",
       "       [21, 32]])"
      ]
     },
     "execution_count": 45,
     "metadata": {},
     "output_type": "execute_result"
    }
   ],
   "source": [
    "A*B"
   ]
  },
  {
   "cell_type": "code",
   "execution_count": 46,
   "id": "1b2d4ea2",
   "metadata": {
    "scrolled": true
   },
   "outputs": [
    {
     "data": {
      "text/plain": [
       "array([[0.2       , 0.33333333],\n",
       "       [0.42857143, 0.5       ]])"
      ]
     },
     "execution_count": 46,
     "metadata": {},
     "output_type": "execute_result"
    }
   ],
   "source": [
    "A/B"
   ]
  },
  {
   "cell_type": "code",
   "execution_count": 47,
   "id": "b88dc361",
   "metadata": {},
   "outputs": [
    {
     "data": {
      "text/plain": [
       "array([[19, 22],\n",
       "       [43, 50]])"
      ]
     },
     "execution_count": 47,
     "metadata": {},
     "output_type": "execute_result"
    }
   ],
   "source": [
    "A.dot(B)"
   ]
  }
 ],
 "metadata": {
  "kernelspec": {
   "display_name": "Python [conda env:DS_ML] *",
   "language": "python",
   "name": "conda-env-DS_ML-py"
  },
  "language_info": {
   "codemirror_mode": {
    "name": "ipython",
    "version": 3
   },
   "file_extension": ".py",
   "mimetype": "text/x-python",
   "name": "python",
   "nbconvert_exporter": "python",
   "pygments_lexer": "ipython3",
   "version": "3.9.15"
  }
 },
 "nbformat": 4,
 "nbformat_minor": 5
}
